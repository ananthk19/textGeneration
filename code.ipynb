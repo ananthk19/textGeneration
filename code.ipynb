{
 "cells": [
  {
   "cell_type": "code",
   "execution_count": 3,
   "metadata": {},
   "outputs": [],
   "source": [
    "import warnings\n",
    "warnings.filterwarnings('ignore')\n",
    "import pandas as pd\n",
    "import spacy \n",
    "nlp = spacy.load(\"en_core_web_sm\")\n",
    "from keras.preprocessing.text import Tokenizer\n",
    "from keras.utils import pad_sequences\n",
    "from sklearn.model_selection import train_test_split\n",
    "from keras import Sequential\n",
    "from keras.utils import to_categorical\n",
    "from keras import layers\n",
    "import numpy as np"
   ]
  },
  {
   "attachments": {},
   "cell_type": "markdown",
   "metadata": {},
   "source": [
    "User-defined Functions"
   ]
  },
  {
   "cell_type": "code",
   "execution_count": 2,
   "metadata": {},
   "outputs": [],
   "source": [
    "def preprocess(text):\n",
    "    doc = nlp(text)\n",
    "    tokens = [token.lemma_ for token in doc if not (token.is_punct or token.is_stop) ]\n",
    "    return ' '.join(tokens)\n",
    "\n",
    "def find_max_len_string(texts):\n",
    "    max_len = len(texts.loc[0])\n",
    "    max_string = ''\n",
    "    i = 0\n",
    "    while i < len(df1):\n",
    "        s = texts.loc[i]\n",
    "        # print(s)\n",
    "        if len(s) < max_len:\n",
    "            max_len = len(s)\n",
    "            max_string = s\n",
    "        i += 1\n",
    "    return  max_string\n",
    "\n",
    "def findMinMax(arrays):\n",
    "    max = None\n",
    "    max_len = 0\n",
    "    min_len = len(arrays[0])\n",
    "    min = arrays[0]\n",
    "    for array in arrays:\n",
    "        size = len(array)\n",
    "        if size > max_len:\n",
    "            max = array\n",
    "        if size < min_len:\n",
    "            min = array\n",
    "    return max, min"
   ]
  }
 ],
 "metadata": {
  "kernelspec": {
   "display_name": "Python 3",
   "language": "python",
   "name": "python3"
  },
  "language_info": {
   "codemirror_mode": {
    "name": "ipython",
    "version": 3
   },
   "file_extension": ".py",
   "mimetype": "text/x-python",
   "name": "python",
   "nbconvert_exporter": "python",
   "pygments_lexer": "ipython3",
   "version": "3.10.9"
  },
  "orig_nbformat": 4,
  "vscode": {
   "interpreter": {
    "hash": "e7370f93d1d0cde622a1f8e1c04877d8463912d04d973331ad4851f04de6915a"
   }
  }
 },
 "nbformat": 4,
 "nbformat_minor": 2
}
