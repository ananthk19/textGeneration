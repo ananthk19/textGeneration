{
 "cells": [
  {
   "cell_type": "code",
   "execution_count": 3,
   "metadata": {},
   "outputs": [],
   "source": [
    "import warnings\n",
    "warnings.filterwarnings('ignore')\n",
    "import pandas as pd\n",
    "import spacy \n",
    "nlp = spacy.load(\"en_core_web_sm\")\n",
    "from keras.preprocessing.text import Tokenizer\n",
    "from keras.utils import pad_sequences\n",
    "from sklearn.model_selection import train_test_split\n",
    "from keras import Sequential\n",
    "from keras.utils import to_categorical\n",
    "from keras import layers\n",
    "import numpy as np"
   ]
  },
  {
   "attachments": {},
   "cell_type": "markdown",
   "metadata": {},
   "source": [
    "User-defined Functions"
   ]
  },
  {
   "cell_type": "code",
   "execution_count": 2,
   "metadata": {},
   "outputs": [],
   "source": [
    "def preprocess(text):\n",
    "    doc = nlp(text)\n",
    "    tokens = [token.lemma_ for token in doc if not (token.is_punct or token.is_stop) ]\n",
    "    return ' '.join(tokens)\n",
    "\n",
    "def find_max_len_string(texts):\n",
    "    max_len = len(texts.loc[0])\n",
    "    max_string = ''\n",
    "    i = 0\n",
    "    while i < len(df1):\n",
    "        s = texts.loc[i]\n",
    "        # print(s)\n",
    "        if len(s) < max_len:\n",
    "            max_len = len(s)\n",
    "            max_string = s\n",
    "        i += 1\n",
    "    return  max_string\n",
    "\n",
    "def findMinMax(arrays):\n",
    "    max = None\n",
    "    max_len = 0\n",
    "    min_len = len(arrays[0])\n",
    "    min = arrays[0]\n",
    "    for array in arrays:\n",
    "        size = len(array)\n",
    "        if size > max_len:\n",
    "            max = array\n",
    "        if size < min_len:\n",
    "            min = array\n",
    "    return max, min"
   ]
  },
  {
   "attachments": {},
   "cell_type": "markdown",
   "metadata": {},
   "source": [
    "Read Data"
   ]
  },
  {
   "cell_type": "code",
   "execution_count": 4,
   "metadata": {},
   "outputs": [
    {
     "data": {
      "text/html": [
       "<div>\n",
       "<style scoped>\n",
       "    .dataframe tbody tr th:only-of-type {\n",
       "        vertical-align: middle;\n",
       "    }\n",
       "\n",
       "    .dataframe tbody tr th {\n",
       "        vertical-align: top;\n",
       "    }\n",
       "\n",
       "    .dataframe thead th {\n",
       "        text-align: right;\n",
       "    }\n",
       "</style>\n",
       "<table border=\"1\" class=\"dataframe\">\n",
       "  <thead>\n",
       "    <tr style=\"text-align: right;\">\n",
       "      <th></th>\n",
       "      <th>target</th>\n",
       "      <th>id</th>\n",
       "      <th>date</th>\n",
       "      <th>flag</th>\n",
       "      <th>user</th>\n",
       "      <th>text</th>\n",
       "    </tr>\n",
       "  </thead>\n",
       "  <tbody>\n",
       "    <tr>\n",
       "      <th>0</th>\n",
       "      <td>0</td>\n",
       "      <td>1467810369</td>\n",
       "      <td>Mon Apr 06 22:19:45 PDT 2009</td>\n",
       "      <td>NO_QUERY</td>\n",
       "      <td>_TheSpecialOne_</td>\n",
       "      <td>@switchfoot http://twitpic.com/2y1zl - Awww, t...</td>\n",
       "    </tr>\n",
       "    <tr>\n",
       "      <th>0</th>\n",
       "      <td>0</td>\n",
       "      <td>1467810672</td>\n",
       "      <td>Mon Apr 06 22:19:49 PDT 2009</td>\n",
       "      <td>NO_QUERY</td>\n",
       "      <td>scotthamilton</td>\n",
       "      <td>is upset that he can't update his Facebook by ...</td>\n",
       "    </tr>\n",
       "    <tr>\n",
       "      <th>1</th>\n",
       "      <td>0</td>\n",
       "      <td>1467810917</td>\n",
       "      <td>Mon Apr 06 22:19:53 PDT 2009</td>\n",
       "      <td>NO_QUERY</td>\n",
       "      <td>mattycus</td>\n",
       "      <td>@Kenichan I dived many times for the ball. Man...</td>\n",
       "    </tr>\n",
       "    <tr>\n",
       "      <th>2</th>\n",
       "      <td>0</td>\n",
       "      <td>1467811184</td>\n",
       "      <td>Mon Apr 06 22:19:57 PDT 2009</td>\n",
       "      <td>NO_QUERY</td>\n",
       "      <td>ElleCTF</td>\n",
       "      <td>my whole body feels itchy and like its on fire</td>\n",
       "    </tr>\n",
       "    <tr>\n",
       "      <th>3</th>\n",
       "      <td>0</td>\n",
       "      <td>1467811193</td>\n",
       "      <td>Mon Apr 06 22:19:57 PDT 2009</td>\n",
       "      <td>NO_QUERY</td>\n",
       "      <td>Karoli</td>\n",
       "      <td>@nationwideclass no, it's not behaving at all....</td>\n",
       "    </tr>\n",
       "  </tbody>\n",
       "</table>\n",
       "</div>"
      ],
      "text/plain": [
       "  target          id                          date      flag             user  \\\n",
       "0      0  1467810369  Mon Apr 06 22:19:45 PDT 2009  NO_QUERY  _TheSpecialOne_   \n",
       "0      0  1467810672  Mon Apr 06 22:19:49 PDT 2009  NO_QUERY    scotthamilton   \n",
       "1      0  1467810917  Mon Apr 06 22:19:53 PDT 2009  NO_QUERY         mattycus   \n",
       "2      0  1467811184  Mon Apr 06 22:19:57 PDT 2009  NO_QUERY          ElleCTF   \n",
       "3      0  1467811193  Mon Apr 06 22:19:57 PDT 2009  NO_QUERY           Karoli   \n",
       "\n",
       "                                                text  \n",
       "0  @switchfoot http://twitpic.com/2y1zl - Awww, t...  \n",
       "0  is upset that he can't update his Facebook by ...  \n",
       "1  @Kenichan I dived many times for the ball. Man...  \n",
       "2    my whole body feels itchy and like its on fire   \n",
       "3  @nationwideclass no, it's not behaving at all....  "
      ]
     },
     "execution_count": 4,
     "metadata": {},
     "output_type": "execute_result"
    }
   ],
   "source": [
    "df = pd.read_csv('../Assignments/archive/training.1600000.processed.noemoticon.csv', encoding = \"cp1252\")\n",
    "first_row = df.columns\n",
    "df.columns = ['target', 'id', 'date', 'flag', 'user', 'text']\n",
    "first_row_df = pd.DataFrame(data=None, columns = df.columns)\n",
    "first_row_df.loc[0] = first_row\n",
    "df = pd.concat([first_row_df,df])\n",
    "df.head()"
   ]
  },
  {
   "attachments": {},
   "cell_type": "markdown",
   "metadata": {},
   "source": [
    "Choosing a user"
   ]
  },
  {
   "cell_type": "code",
   "execution_count": 5,
   "metadata": {},
   "outputs": [
    {
     "name": "stdout",
     "output_type": "stream",
     "text": [
      "['SallytheShizzle' 'VioletsCRUK' 'mcraddictal' 'tsarnick' 'what_bugs_u'\n",
      " 'Karen230683' 'DarkPiano' 'SongoftheOss' 'Jayme1988' 'keza34'\n",
      " 'ramdomthoughts' 'shanajaca' 'wowlew' 'nuttychris' 'TraceyHewins'\n",
      " 'thisgoeshere' 'Spidersamm' 'StDAY']\n"
     ]
    }
   ],
   "source": [
    "user_frequency = df.user.value_counts()\n",
    "preferred_users = user_frequency[user_frequency > 200]\n",
    "preferred_users = preferred_users[user_frequency < 300]\n",
    "print(preferred_users.index.values)"
   ]
  },
  {
   "attachments": {},
   "cell_type": "markdown",
   "metadata": {},
   "source": [
    "Let's choose user DarkPiano for this experiment"
   ]
  },
  {
   "cell_type": "code",
   "execution_count": 6,
   "metadata": {},
   "outputs": [
    {
     "data": {
      "text/plain": [
       "(236, 7)"
      ]
     },
     "execution_count": 6,
     "metadata": {},
     "output_type": "execute_result"
    }
   ],
   "source": [
    "user = 'DarkPiano'\n",
    "df1 = df[df.loc[:,\"user\"] == user]\n",
    "df1 = df1.reset_index()\n",
    "df1.shape"
   ]
  },
  {
   "attachments": {},
   "cell_type": "markdown",
   "metadata": {},
   "source": [
    "Preprocessing the tweets"
   ]
  },
  {
   "cell_type": "code",
   "execution_count": 7,
   "metadata": {},
   "outputs": [],
   "source": [
    "df1.text = df1.text.apply(preprocess)"
   ]
  },
  {
   "attachments": {},
   "cell_type": "markdown",
   "metadata": {},
   "source": [
    "Create training data"
   ]
  },
  {
   "cell_type": "code",
   "execution_count": 14,
   "metadata": {},
   "outputs": [
    {
     "name": "stdout",
     "output_type": "stream",
     "text": [
      "1971\n"
     ]
    }
   ],
   "source": [
    "seq_length = 30\n",
    "\n",
    "# Create a sequence of tokens\n",
    "sequences = []\n",
    "for i in range(len(df1)):\n",
    "    tweet = df1.text.loc[i]\n",
    "\n",
    "    for i in range(seq_length, len(tweet)):\n",
    "        if len(tweet) > seq_length:\n",
    "            seq = tweet[i-seq_length:i+1]\n",
    "            sequences.append(seq)\n",
    "\n",
    "# Convert sequences into numerical data\n",
    "tokenizer = Tokenizer()\n",
    "tokenizer.fit_on_texts(sequences)\n",
    "sequences = tokenizer.texts_to_sequences(sequences)\n",
    "\n",
    "sequences = pad_sequences(sequences, maxlen=seq_length+1, padding='post')\n",
    "sequences = np.array(sequences)\n",
    "\n",
    "# Take the last integer of the arrays as y and rest as X\n",
    "X = sequences[:,:-1]\n",
    "y = sequences[:,-1]\n",
    "vocab_size = len(tokenizer.word_index) + 1\n",
    "print(vocab_size)\n",
    "y = to_categorical(y, num_classes=vocab_size)"
   ]
  },
  {
   "cell_type": "code",
   "execution_count": 15,
   "metadata": {},
   "outputs": [
    {
     "name": "stdout",
     "output_type": "stream",
     "text": [
      "(2363, 30) (2363, 1971)\n"
     ]
    }
   ],
   "source": [
    "print(X.shape, y.shape)"
   ]
  },
  {
   "attachments": {},
   "cell_type": "markdown",
   "metadata": {},
   "source": [
    "Define model"
   ]
  },
  {
   "cell_type": "code",
   "execution_count": 16,
   "metadata": {},
   "outputs": [
    {
     "name": "stdout",
     "output_type": "stream",
     "text": [
      "Model: \"sequential_1\"\n",
      "_________________________________________________________________\n",
      " Layer (type)                Output Shape              Param #   \n",
      "=================================================================\n",
      " embedding_1 (Embedding)     (None, 30, 50)            98550     \n",
      "                                                                 \n",
      " lstm_2 (LSTM)               (None, 30, 100)           60400     \n",
      "                                                                 \n",
      " dropout_1 (Dropout)         (None, 30, 100)           0         \n",
      "                                                                 \n",
      " lstm_3 (LSTM)               (None, 100)               80400     \n",
      "                                                                 \n",
      " dense_2 (Dense)             (None, 100)               10100     \n",
      "                                                                 \n",
      " dense_3 (Dense)             (None, 1971)              199071    \n",
      "                                                                 \n",
      "=================================================================\n",
      "Total params: 448,521\n",
      "Trainable params: 448,521\n",
      "Non-trainable params: 0\n",
      "_________________________________________________________________\n"
     ]
    }
   ],
   "source": [
    "model = Sequential([\n",
    "    layers.Embedding(vocab_size, 50, input_length=seq_length),\n",
    "    layers.LSTM(100, return_sequences=True),\n",
    "    layers.Dropout(0.1),\n",
    "    layers.LSTM(100),\n",
    "    layers.Dense(100, activation='relu'),\n",
    "    layers.Dense(vocab_size, activation='softmax')\n",
    "])\n",
    "model.compile(loss='categorical_crossentropy', optimizer='adam', metrics=['accuracy'])\n",
    "model.summary()"
   ]
  },
  {
   "attachments": {},
   "cell_type": "markdown",
   "metadata": {},
   "source": [
    "Train the model"
   ]
  },
  {
   "cell_type": "code",
   "execution_count": 17,
   "metadata": {},
   "outputs": [
    {
     "name": "stderr",
     "output_type": "stream",
     "text": [
      "2023-05-13 16:44:48.448311: W tensorflow/tsl/framework/cpu_allocator_impl.cc:82] Allocation of 18629892 exceeds 10% of free system memory.\n"
     ]
    },
    {
     "name": "stdout",
     "output_type": "stream",
     "text": [
      "Epoch 1/100\n",
      "19/19 [==============================] - 5s 74ms/step - loss: 6.3950 - accuracy: 0.9458\n",
      "Epoch 2/100\n",
      "19/19 [==============================] - 1s 75ms/step - loss: 0.7143 - accuracy: 1.0000\n",
      "Epoch 3/100\n",
      "19/19 [==============================] - 1s 73ms/step - loss: 5.3575e-04 - accuracy: 1.0000\n",
      "Epoch 4/100\n",
      "19/19 [==============================] - 1s 73ms/step - loss: 1.0665e-04 - accuracy: 1.0000\n",
      "Epoch 5/100\n",
      "19/19 [==============================] - 1s 77ms/step - loss: 8.4724e-05 - accuracy: 1.0000\n",
      "Epoch 6/100\n",
      "19/19 [==============================] - 2s 82ms/step - loss: 8.1104e-05 - accuracy: 1.0000\n",
      "Epoch 7/100\n",
      "19/19 [==============================] - 2s 80ms/step - loss: 8.0032e-05 - accuracy: 1.0000\n",
      "Epoch 8/100\n",
      "19/19 [==============================] - 2s 79ms/step - loss: 7.9230e-05 - accuracy: 1.0000\n",
      "Epoch 9/100\n",
      "19/19 [==============================] - 1s 75ms/step - loss: 7.8455e-05 - accuracy: 1.0000\n",
      "Epoch 10/100\n",
      "19/19 [==============================] - 2s 80ms/step - loss: 7.7604e-05 - accuracy: 1.0000\n",
      "Epoch 11/100\n",
      "19/19 [==============================] - 2s 81ms/step - loss: 7.6723e-05 - accuracy: 1.0000\n",
      "Epoch 12/100\n",
      "19/19 [==============================] - 2s 81ms/step - loss: 7.5855e-05 - accuracy: 1.0000\n",
      "Epoch 13/100\n",
      "19/19 [==============================] - 2s 87ms/step - loss: 7.4885e-05 - accuracy: 1.0000\n",
      "Epoch 14/100\n",
      "19/19 [==============================] - 2s 81ms/step - loss: 7.3909e-05 - accuracy: 1.0000\n",
      "Epoch 15/100\n",
      "19/19 [==============================] - 1s 76ms/step - loss: 7.2952e-05 - accuracy: 1.0000\n",
      "Epoch 16/100\n",
      "19/19 [==============================] - 1s 77ms/step - loss: 7.1901e-05 - accuracy: 1.0000\n",
      "Epoch 17/100\n",
      "19/19 [==============================] - 2s 81ms/step - loss: 7.0870e-05 - accuracy: 1.0000\n",
      "Epoch 18/100\n",
      "19/19 [==============================] - 1s 77ms/step - loss: 6.9918e-05 - accuracy: 1.0000\n",
      "Epoch 19/100\n",
      "19/19 [==============================] - 1s 79ms/step - loss: 6.8984e-05 - accuracy: 1.0000\n",
      "Epoch 20/100\n",
      "19/19 [==============================] - 2s 81ms/step - loss: 6.7993e-05 - accuracy: 1.0000\n",
      "Epoch 21/100\n",
      "19/19 [==============================] - 2s 79ms/step - loss: 6.6978e-05 - accuracy: 1.0000\n",
      "Epoch 22/100\n",
      "19/19 [==============================] - 1s 77ms/step - loss: 6.5889e-05 - accuracy: 1.0000\n",
      "Epoch 23/100\n",
      "19/19 [==============================] - 2s 79ms/step - loss: 6.4911e-05 - accuracy: 1.0000\n",
      "Epoch 24/100\n",
      "19/19 [==============================] - 1s 78ms/step - loss: 6.4020e-05 - accuracy: 1.0000\n",
      "Epoch 25/100\n",
      "19/19 [==============================] - 2s 81ms/step - loss: 6.2968e-05 - accuracy: 1.0000\n",
      "Epoch 26/100\n",
      "19/19 [==============================] - 1s 77ms/step - loss: 6.1872e-05 - accuracy: 1.0000\n",
      "Epoch 27/100\n",
      "19/19 [==============================] - 2s 80ms/step - loss: 6.0909e-05 - accuracy: 1.0000\n",
      "Epoch 28/100\n",
      "19/19 [==============================] - 2s 81ms/step - loss: 5.9941e-05 - accuracy: 1.0000\n",
      "Epoch 29/100\n",
      "19/19 [==============================] - 2s 78ms/step - loss: 5.8968e-05 - accuracy: 1.0000\n",
      "Epoch 30/100\n",
      "19/19 [==============================] - 2s 82ms/step - loss: 5.7948e-05 - accuracy: 1.0000\n",
      "Epoch 31/100\n",
      "19/19 [==============================] - 1s 78ms/step - loss: 5.6914e-05 - accuracy: 1.0000\n",
      "Epoch 32/100\n",
      "19/19 [==============================] - 1s 77ms/step - loss: 5.6009e-05 - accuracy: 1.0000\n",
      "Epoch 33/100\n",
      "19/19 [==============================] - 1s 78ms/step - loss: 5.5151e-05 - accuracy: 1.0000\n",
      "Epoch 34/100\n",
      "19/19 [==============================] - 2s 82ms/step - loss: 5.4185e-05 - accuracy: 1.0000\n",
      "Epoch 35/100\n",
      "19/19 [==============================] - 1s 77ms/step - loss: 5.3177e-05 - accuracy: 1.0000\n",
      "Epoch 36/100\n",
      "19/19 [==============================] - 1s 77ms/step - loss: 5.2263e-05 - accuracy: 1.0000\n",
      "Epoch 37/100\n",
      "19/19 [==============================] - 1s 78ms/step - loss: 5.1365e-05 - accuracy: 1.0000\n",
      "Epoch 38/100\n",
      "19/19 [==============================] - 1s 77ms/step - loss: 5.0450e-05 - accuracy: 1.0000\n",
      "Epoch 39/100\n",
      "19/19 [==============================] - 1s 76ms/step - loss: 4.9532e-05 - accuracy: 1.0000\n",
      "Epoch 40/100\n",
      "19/19 [==============================] - 2s 80ms/step - loss: 4.8746e-05 - accuracy: 1.0000\n",
      "Epoch 41/100\n",
      "19/19 [==============================] - 2s 87ms/step - loss: 4.7903e-05 - accuracy: 1.0000\n",
      "Epoch 42/100\n",
      "19/19 [==============================] - 2s 83ms/step - loss: 4.7036e-05 - accuracy: 1.0000\n",
      "Epoch 43/100\n",
      "19/19 [==============================] - 2s 83ms/step - loss: 4.6227e-05 - accuracy: 1.0000\n",
      "Epoch 44/100\n",
      "19/19 [==============================] - 2s 79ms/step - loss: 4.5441e-05 - accuracy: 1.0000\n",
      "Epoch 45/100\n",
      "19/19 [==============================] - 1s 78ms/step - loss: 4.4690e-05 - accuracy: 1.0000\n",
      "Epoch 46/100\n",
      "19/19 [==============================] - 2s 80ms/step - loss: 4.3916e-05 - accuracy: 1.0000\n",
      "Epoch 47/100\n",
      "19/19 [==============================] - 1s 78ms/step - loss: 4.3163e-05 - accuracy: 1.0000\n",
      "Epoch 48/100\n",
      "19/19 [==============================] - 1s 78ms/step - loss: 4.2464e-05 - accuracy: 1.0000\n",
      "Epoch 49/100\n",
      "19/19 [==============================] - 2s 79ms/step - loss: 4.1618e-05 - accuracy: 1.0000\n",
      "Epoch 50/100\n",
      "19/19 [==============================] - 1s 78ms/step - loss: 4.0861e-05 - accuracy: 1.0000\n",
      "Epoch 51/100\n",
      "19/19 [==============================] - 2s 80ms/step - loss: 4.0135e-05 - accuracy: 1.0000\n",
      "Epoch 52/100\n",
      "19/19 [==============================] - 2s 80ms/step - loss: 3.9414e-05 - accuracy: 1.0000\n",
      "Epoch 53/100\n",
      "19/19 [==============================] - 2s 80ms/step - loss: 3.8733e-05 - accuracy: 1.0000\n",
      "Epoch 54/100\n",
      "19/19 [==============================] - 2s 83ms/step - loss: 3.7986e-05 - accuracy: 1.0000\n",
      "Epoch 55/100\n",
      "19/19 [==============================] - 2s 80ms/step - loss: 3.7310e-05 - accuracy: 1.0000\n",
      "Epoch 56/100\n",
      "19/19 [==============================] - 2s 79ms/step - loss: 3.6626e-05 - accuracy: 1.0000\n",
      "Epoch 57/100\n",
      "19/19 [==============================] - 1s 79ms/step - loss: 3.5935e-05 - accuracy: 1.0000\n",
      "Epoch 58/100\n",
      "19/19 [==============================] - 1s 76ms/step - loss: 3.5346e-05 - accuracy: 1.0000\n",
      "Epoch 59/100\n",
      "19/19 [==============================] - 1s 77ms/step - loss: 3.4726e-05 - accuracy: 1.0000\n",
      "Epoch 60/100\n",
      "19/19 [==============================] - 2s 79ms/step - loss: 3.4096e-05 - accuracy: 1.0000\n",
      "Epoch 61/100\n",
      "19/19 [==============================] - 1s 78ms/step - loss: 3.3432e-05 - accuracy: 1.0000\n",
      "Epoch 62/100\n",
      "19/19 [==============================] - 1s 79ms/step - loss: 3.2825e-05 - accuracy: 1.0000\n",
      "Epoch 63/100\n",
      "19/19 [==============================] - 2s 79ms/step - loss: 3.2321e-05 - accuracy: 1.0000\n",
      "Epoch 64/100\n",
      "19/19 [==============================] - 1s 78ms/step - loss: 3.1750e-05 - accuracy: 1.0000\n",
      "Epoch 65/100\n",
      "19/19 [==============================] - 2s 81ms/step - loss: 3.1248e-05 - accuracy: 1.0000\n",
      "Epoch 66/100\n",
      "19/19 [==============================] - 2s 79ms/step - loss: 3.0781e-05 - accuracy: 1.0000\n",
      "Epoch 67/100\n",
      "19/19 [==============================] - 1s 78ms/step - loss: 3.0318e-05 - accuracy: 1.0000\n",
      "Epoch 68/100\n",
      "19/19 [==============================] - 2s 80ms/step - loss: 2.9846e-05 - accuracy: 1.0000\n",
      "Epoch 69/100\n",
      "19/19 [==============================] - 1s 77ms/step - loss: 2.9284e-05 - accuracy: 1.0000\n",
      "Epoch 70/100\n",
      "19/19 [==============================] - 2s 79ms/step - loss: 2.8674e-05 - accuracy: 1.0000\n",
      "Epoch 71/100\n",
      "19/19 [==============================] - 2s 80ms/step - loss: 2.8220e-05 - accuracy: 1.0000\n",
      "Epoch 72/100\n",
      "19/19 [==============================] - 1s 78ms/step - loss: 2.7791e-05 - accuracy: 1.0000\n",
      "Epoch 73/100\n",
      "19/19 [==============================] - 2s 80ms/step - loss: 2.7390e-05 - accuracy: 1.0000\n",
      "Epoch 74/100\n",
      "19/19 [==============================] - 2s 78ms/step - loss: 2.6982e-05 - accuracy: 1.0000\n",
      "Epoch 75/100\n",
      "19/19 [==============================] - 1s 78ms/step - loss: 2.6597e-05 - accuracy: 1.0000\n",
      "Epoch 76/100\n",
      "19/19 [==============================] - 2s 78ms/step - loss: 2.6139e-05 - accuracy: 1.0000\n",
      "Epoch 77/100\n",
      "19/19 [==============================] - 1s 76ms/step - loss: 2.5701e-05 - accuracy: 1.0000\n",
      "Epoch 78/100\n",
      "19/19 [==============================] - 2s 80ms/step - loss: 2.5236e-05 - accuracy: 1.0000\n",
      "Epoch 79/100\n",
      "19/19 [==============================] - 1s 77ms/step - loss: 2.4837e-05 - accuracy: 1.0000\n",
      "Epoch 80/100\n",
      "19/19 [==============================] - 1s 77ms/step - loss: 2.4407e-05 - accuracy: 1.0000\n",
      "Epoch 81/100\n",
      "19/19 [==============================] - 2s 80ms/step - loss: 2.4009e-05 - accuracy: 1.0000\n",
      "Epoch 82/100\n",
      "19/19 [==============================] - 2s 79ms/step - loss: 2.3682e-05 - accuracy: 1.0000\n",
      "Epoch 83/100\n",
      "19/19 [==============================] - 2s 79ms/step - loss: 2.3314e-05 - accuracy: 1.0000\n",
      "Epoch 84/100\n",
      "19/19 [==============================] - 2s 84ms/step - loss: 2.2921e-05 - accuracy: 1.0000\n",
      "Epoch 85/100\n",
      "19/19 [==============================] - 2s 81ms/step - loss: 2.2562e-05 - accuracy: 1.0000\n",
      "Epoch 86/100\n",
      "19/19 [==============================] - 2s 82ms/step - loss: 2.2219e-05 - accuracy: 1.0000\n",
      "Epoch 87/100\n",
      "19/19 [==============================] - 2s 84ms/step - loss: 2.1926e-05 - accuracy: 1.0000\n",
      "Epoch 88/100\n",
      "19/19 [==============================] - 2s 82ms/step - loss: 2.1491e-05 - accuracy: 1.0000\n",
      "Epoch 89/100\n",
      "19/19 [==============================] - 2s 84ms/step - loss: 2.1068e-05 - accuracy: 1.0000\n",
      "Epoch 90/100\n",
      "19/19 [==============================] - 2s 81ms/step - loss: 2.0790e-05 - accuracy: 1.0000\n",
      "Epoch 91/100\n",
      "19/19 [==============================] - 2s 81ms/step - loss: 2.0477e-05 - accuracy: 1.0000\n",
      "Epoch 92/100\n",
      "19/19 [==============================] - 2s 84ms/step - loss: 2.0143e-05 - accuracy: 1.0000\n",
      "Epoch 93/100\n",
      "19/19 [==============================] - 2s 81ms/step - loss: 1.9761e-05 - accuracy: 1.0000\n",
      "Epoch 94/100\n",
      "19/19 [==============================] - 2s 82ms/step - loss: 1.9404e-05 - accuracy: 1.0000\n",
      "Epoch 95/100\n",
      "19/19 [==============================] - 2s 83ms/step - loss: 1.9121e-05 - accuracy: 1.0000\n",
      "Epoch 96/100\n",
      "19/19 [==============================] - 2s 82ms/step - loss: 1.8890e-05 - accuracy: 1.0000\n",
      "Epoch 97/100\n",
      "19/19 [==============================] - 2s 85ms/step - loss: 1.8613e-05 - accuracy: 1.0000\n",
      "Epoch 98/100\n",
      "19/19 [==============================] - 2s 81ms/step - loss: 1.8341e-05 - accuracy: 1.0000\n",
      "Epoch 99/100\n",
      "19/19 [==============================] - 2s 81ms/step - loss: 1.8100e-05 - accuracy: 1.0000\n",
      "Epoch 100/100\n",
      "19/19 [==============================] - 2s 84ms/step - loss: 1.7876e-05 - accuracy: 1.0000\n"
     ]
    },
    {
     "data": {
      "text/plain": [
       "<keras.callbacks.History at 0x7f6df5f61d20>"
      ]
     },
     "execution_count": 17,
     "metadata": {},
     "output_type": "execute_result"
    }
   ],
   "source": [
    "model.fit(X, y , batch_size=128, epochs=100)"
   ]
  }
 ],
 "metadata": {
  "kernelspec": {
   "display_name": "Python 3",
   "language": "python",
   "name": "python3"
  },
  "language_info": {
   "codemirror_mode": {
    "name": "ipython",
    "version": 3
   },
   "file_extension": ".py",
   "mimetype": "text/x-python",
   "name": "python",
   "nbconvert_exporter": "python",
   "pygments_lexer": "ipython3",
   "version": "3.10.9"
  },
  "orig_nbformat": 4,
  "vscode": {
   "interpreter": {
    "hash": "e7370f93d1d0cde622a1f8e1c04877d8463912d04d973331ad4851f04de6915a"
   }
  }
 },
 "nbformat": 4,
 "nbformat_minor": 2
}
